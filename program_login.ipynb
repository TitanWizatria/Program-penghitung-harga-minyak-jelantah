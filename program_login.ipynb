{
 "cells": [
  {
   "cell_type": "code",
   "execution_count": 10,
   "id": "c07350fe",
   "metadata": {},
   "outputs": [],
   "source": [
    "from tkinter import *\n",
    "from tkinter import ttk\n",
    "\n",
    "def login():\n",
    "    outfile=open('admin.txt','w')\n",
    "    outfile.write(str(entri_un.get())+','+str(entri_pass.get()))\n",
    "    outfile.close()\n",
    "    root.destroy()\n",
    "\n",
    "root = Tk()\n",
    "root.title(\"Login\")\n",
    "root.eval('tk::PlaceWindow . center')\n",
    "\n",
    "label_un=ttk.Label(root, text=\"Masukkan username di sini\")\n",
    "label_un.grid(column=0,row=0)\n",
    "label_pass=ttk.Label(root, text=\"Masukkan password di sini\")\n",
    "label_pass.grid(column=0,row=2)\n",
    "entri_un = StringVar()\n",
    "entri_un = ttk.Entry(root)\n",
    "entri_un.grid(column=0,row=1)\n",
    "entri_pass = StringVar()\n",
    "entri_pass = ttk.Entry(root, show=\"*\")\n",
    "entri_pass.grid(column=0,row=3)\n",
    "button=ttk.Button(root, text=\"Klik disini!\", command=login)\n",
    "button.grid(column=0, row=4)\n",
    "\n",
    "root.mainloop()"
   ]
  },
  {
   "cell_type": "code",
   "execution_count": null,
   "id": "5eea8d52",
   "metadata": {},
   "outputs": [],
   "source": []
  }
 ],
 "metadata": {
  "kernelspec": {
   "display_name": "Python 3 (ipykernel)",
   "language": "python",
   "name": "python3"
  },
  "language_info": {
   "codemirror_mode": {
    "name": "ipython",
    "version": 3
   },
   "file_extension": ".py",
   "mimetype": "text/x-python",
   "name": "python",
   "nbconvert_exporter": "python",
   "pygments_lexer": "ipython3",
   "version": "3.9.12"
  }
 },
 "nbformat": 4,
 "nbformat_minor": 5
}
